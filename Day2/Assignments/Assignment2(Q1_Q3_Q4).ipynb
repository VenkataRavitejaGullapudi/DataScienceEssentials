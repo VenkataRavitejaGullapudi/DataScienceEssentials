{
  "nbformat": 4,
  "nbformat_minor": 0,
  "metadata": {
    "colab": {
      "name": "Assignment2(Q1_Q3_Q4).ipynb",
      "provenance": [],
      "collapsed_sections": []
    },
    "kernelspec": {
      "name": "python3",
      "display_name": "Python 3"
    }
  },
  "cells": [
    {
      "cell_type": "markdown",
      "metadata": {
        "id": "0A08Ioh5X94R"
      },
      "source": [
        "**Question 1**"
      ]
    },
    {
      "cell_type": "code",
      "metadata": {
        "id": "zNoKuT9_Xraj",
        "outputId": "82859e08-43f5-4c0d-d55c-3571cb63eed8",
        "colab": {
          "base_uri": "https://localhost:8080/"
        }
      },
      "source": [
        "l = []\n",
        "for i in range(10):\n",
        "  x = int(input())\n",
        "  if x%2==0:\n",
        "    l.append(x)\n",
        "l"
      ],
      "execution_count": null,
      "outputs": [
        {
          "output_type": "stream",
          "text": [
            "1\n",
            "10\n",
            "20\n",
            "3\n",
            "2\n",
            "4\n",
            "4\n",
            "12\n",
            "67\n",
            "89\n"
          ],
          "name": "stdout"
        },
        {
          "output_type": "execute_result",
          "data": {
            "text/plain": [
              "[10, 20, 2, 4, 4, 12]"
            ]
          },
          "metadata": {
            "tags": []
          },
          "execution_count": 2
        }
      ]
    },
    {
      "cell_type": "markdown",
      "metadata": {
        "id": "xuRqDiD9YdU7"
      },
      "source": [
        "**Question 3**"
      ]
    },
    {
      "cell_type": "code",
      "metadata": {
        "id": "AyqhJKIuYGbL",
        "outputId": "f94855ce-1e02-45fa-e50e-a3c0ddfc8de1",
        "colab": {
          "base_uri": "https://localhost:8080/"
        }
      },
      "source": [
        "n = int(input())\n",
        "d={}\n",
        "for i in range(1,n+1):\n",
        "  d[i]=i*i\n",
        "print(d)"
      ],
      "execution_count": null,
      "outputs": [
        {
          "output_type": "stream",
          "text": [
            "8\n",
            "{1: 1, 2: 4, 3: 9, 4: 16, 5: 25, 6: 36, 7: 49, 8: 64}\n"
          ],
          "name": "stdout"
        }
      ]
    },
    {
      "cell_type": "markdown",
      "metadata": {
        "id": "rI6tfrS2ZkmJ"
      },
      "source": [
        "**Question 4**"
      ]
    },
    {
      "cell_type": "code",
      "metadata": {
        "id": "Kh90um2PY5Rt",
        "outputId": "3aafe2c8-c408-4d7c-c192-f0da66917acf",
        "colab": {
          "base_uri": "https://localhost:8080/"
        }
      },
      "source": [
        "import math\n",
        "n = int(input())\n",
        "x_distance = 0\n",
        "y_distance = 0\n",
        "for i in range(n):\n",
        "  temp = input()\n",
        "  direction = temp[:-1].strip()\n",
        "  steps = int(temp[-1])\n",
        "  if(direction==\"UP\"):\n",
        "    y_distance+=steps\n",
        "  elif(direction==\"DOWN\"):\n",
        "    y_distance-=steps\n",
        "  elif(direction==\"LEFT\"):\n",
        "    x_distance-=steps\n",
        "  elif(direction==\"RIGHT\"):\n",
        "    x_distance+=steps\n",
        "  print(x_distance,y_distance)\n",
        "\n",
        "print(int(math.sqrt((x_distance**2)+(y_distance**2))))\n",
        "  "
      ],
      "execution_count": null,
      "outputs": [
        {
          "output_type": "stream",
          "text": [
            "2\n",
            "UP 5\n",
            "0 5\n",
            "DOWN 3\n",
            "0 2\n",
            "2\n"
          ],
          "name": "stdout"
        }
      ]
    }
  ]
}