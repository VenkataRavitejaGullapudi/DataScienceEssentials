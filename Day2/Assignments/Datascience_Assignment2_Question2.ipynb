{
  "nbformat": 4,
  "nbformat_minor": 0,
  "metadata": {
    "colab": {
      "name": "Datascience_Assignment2_Question2.ipynb",
      "provenance": []
    },
    "kernelspec": {
      "name": "python3",
      "display_name": "Python 3"
    }
  },
  "cells": [
    {
      "cell_type": "code",
      "metadata": {
        "id": "8NJpqK72mze-",
        "outputId": "6d751fae-24e7-4a72-ee10-df7ca76409c3",
        "colab": {
          "base_uri": "https://localhost:8080/"
        }
      },
      "source": [
        "h_letters = [ letter for letter in 'human' ]\n",
        "print( h_letters)"
      ],
      "execution_count": null,
      "outputs": [
        {
          "output_type": "stream",
          "text": [
            "['h', 'u', 'm', 'a', 'n']\n"
          ],
          "name": "stdout"
        }
      ]
    },
    {
      "cell_type": "code",
      "metadata": {
        "id": "luY4I8sfnFQk",
        "outputId": "f6ebdb63-53cd-41ef-92e5-2da12866e311",
        "colab": {
          "base_uri": "https://localhost:8080/"
        }
      },
      "source": [
        "number_list = [ x for x in range(20) if x % 2 == 0]\n",
        "print(number_list)"
      ],
      "execution_count": null,
      "outputs": [
        {
          "output_type": "stream",
          "text": [
            "[0, 2, 4, 6, 8, 10, 12, 14, 16, 18]\n"
          ],
          "name": "stdout"
        }
      ]
    },
    {
      "cell_type": "code",
      "metadata": {
        "id": "7XBHoqhLnGQE",
        "outputId": "e5884288-3b15-41a9-fc36-b487ed5aff97",
        "colab": {
          "base_uri": "https://localhost:8080/"
        }
      },
      "source": [
        "num_list = [y for y in range(100) if y % 2 == 0 if y % 5 == 0]\n",
        "print(num_list)"
      ],
      "execution_count": null,
      "outputs": [
        {
          "output_type": "stream",
          "text": [
            "[0, 10, 20, 30, 40, 50, 60, 70, 80, 90]\n"
          ],
          "name": "stdout"
        }
      ]
    },
    {
      "cell_type": "code",
      "metadata": {
        "id": "PQA0LxS_nK6q",
        "outputId": "3ae7ed55-e3a0-4d71-bdf9-ccce73db0061",
        "colab": {
          "base_uri": "https://localhost:8080/"
        }
      },
      "source": [
        "obj = [\"Even\" if i%2==0 else \"Odd\" for i in range(10)]\n",
        "print(obj)"
      ],
      "execution_count": null,
      "outputs": [
        {
          "output_type": "stream",
          "text": [
            "['Even', 'Odd', 'Even', 'Odd', 'Even', 'Odd', 'Even', 'Odd', 'Even', 'Odd']\n"
          ],
          "name": "stdout"
        }
      ]
    },
    {
      "cell_type": "code",
      "metadata": {
        "id": "x7Ma68c2nML_",
        "outputId": "87b9e582-5d06-47a7-e836-f5843f6cfdd5",
        "colab": {
          "base_uri": "https://localhost:8080/"
        }
      },
      "source": [
        "matrix = [[1, 2], [3,4], [5,6], [7,8]]\n",
        "\n",
        "transpose = [[row[i] for row in matrix] for i in range(len(matrix[0]))]\n",
        "print (transpose)"
      ],
      "execution_count": null,
      "outputs": [
        {
          "output_type": "stream",
          "text": [
            "[[1, 3, 5, 7], [2, 4, 6, 8]]\n"
          ],
          "name": "stdout"
        }
      ]
    },
    {
      "cell_type": "code",
      "metadata": {
        "id": "q1aGvgoUnnlM",
        "outputId": "4838e860-27c2-4fad-b19a-2419a91d6110",
        "colab": {
          "base_uri": "https://localhost:8080/"
        }
      },
      "source": [
        "squares = [var**2 for var in range(1, 10)] \n",
        "squares"
      ],
      "execution_count": null,
      "outputs": [
        {
          "output_type": "execute_result",
          "data": {
            "text/plain": [
              "[1, 4, 9, 16, 25, 36, 49, 64, 81]"
            ]
          },
          "metadata": {
            "tags": []
          },
          "execution_count": 9
        }
      ]
    },
    {
      "cell_type": "code",
      "metadata": {
        "id": "5TFiuJpentow",
        "outputId": "60ad4728-f03a-4e24-ba97-6e740450b3f7",
        "colab": {
          "base_uri": "https://localhost:8080/"
        }
      },
      "source": [
        "input_numbers_into_list = [int(i) for i in input().split()]\n",
        "input_numbers_into_list"
      ],
      "execution_count": null,
      "outputs": [
        {
          "output_type": "stream",
          "text": [
            "1 2 3 4\n"
          ],
          "name": "stdout"
        },
        {
          "output_type": "execute_result",
          "data": {
            "text/plain": [
              "[1, 2, 3, 4]"
            ]
          },
          "metadata": {
            "tags": []
          },
          "execution_count": 11
        }
      ]
    },
    {
      "cell_type": "code",
      "metadata": {
        "id": "_c9Ohv4FoFBl",
        "outputId": "ba2ba3b5-d478-4079-c05d-73f703873ae0",
        "colab": {
          "base_uri": "https://localhost:8080/"
        }
      },
      "source": [
        "names = ['ravi','teja','venkata','amrutha']\n",
        "names_start_with_given = [name for name in names if name.lower().startswith('r')]\n",
        "names_start_with_given"
      ],
      "execution_count": null,
      "outputs": [
        {
          "output_type": "execute_result",
          "data": {
            "text/plain": [
              "['ravi']"
            ]
          },
          "metadata": {
            "tags": []
          },
          "execution_count": 13
        }
      ]
    },
    {
      "cell_type": "code",
      "metadata": {
        "id": "p2FN-D0Iob5P",
        "outputId": "ea3e003a-16f5-432e-f9bd-bf9d27640f3c",
        "colab": {
          "base_uri": "https://localhost:8080/"
        }
      },
      "source": [
        "vals = [[1,2,3],[4,5,2],[3,2,6]]\n",
        "vals_max = [max(x) for x in vals]\n",
        "vals_max"
      ],
      "execution_count": null,
      "outputs": [
        {
          "output_type": "execute_result",
          "data": {
            "text/plain": [
              "[3, 5, 6]"
            ]
          },
          "metadata": {
            "tags": []
          },
          "execution_count": 14
        }
      ]
    }
  ]
}