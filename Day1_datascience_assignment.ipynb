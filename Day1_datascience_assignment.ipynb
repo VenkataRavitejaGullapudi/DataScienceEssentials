{
  "nbformat": 4,
  "nbformat_minor": 0,
  "metadata": {
    "colab": {
      "name": "Day1_datascience_assignment",
      "provenance": [],
      "collapsed_sections": [],
      "authorship_tag": "ABX9TyPuojUW8M0JsC3EEeCcEJD+",
      "include_colab_link": true
    },
    "kernelspec": {
      "name": "python3",
      "display_name": "Python 3"
    }
  },
  "cells": [
    {
      "cell_type": "markdown",
      "metadata": {
        "id": "view-in-github",
        "colab_type": "text"
      },
      "source": [
        "<a href=\"https://colab.research.google.com/github/ravi777-developer/DataScienceEssentials/blob/main/Day1_datascience_assignment.ipynb\" target=\"_parent\"><img src=\"https://colab.research.google.com/assets/colab-badge.svg\" alt=\"Open In Colab\"/></a>"
      ]
    },
    {
      "cell_type": "markdown",
      "metadata": {
        "id": "jfYwNSmH_BYG"
      },
      "source": [
        "**Question 1**"
      ]
    },
    {
      "cell_type": "code",
      "metadata": {
        "id": "rblTjzzw-8YP",
        "outputId": "3a52fd82-36f7-4f20-ba31-a061d9ee23c7",
        "colab": {
          "base_uri": "https://localhost:8080/"
        }
      },
      "source": [
        "print('ANSWER IS (B). RAINBOW')"
      ],
      "execution_count": null,
      "outputs": [
        {
          "output_type": "stream",
          "text": [
            "ANSWER IS (B). RAINBOW\n"
          ],
          "name": "stdout"
        }
      ]
    },
    {
      "cell_type": "markdown",
      "metadata": {
        "id": "6TlBNKH8_OWi"
      },
      "source": [
        "**Question 2**"
      ]
    },
    {
      "cell_type": "code",
      "metadata": {
        "id": "mjLacTKg_LuL",
        "outputId": "5ba6f987-91a0-49c4-f73d-e7bf9f2aa36b",
        "colab": {
          "base_uri": "https://localhost:8080/"
        }
      },
      "source": [
        "given_string = 'lets upgrade'\n",
        "print(given_string.upper())"
      ],
      "execution_count": null,
      "outputs": [
        {
          "output_type": "stream",
          "text": [
            "LETS UPGRADE\n"
          ],
          "name": "stdout"
        }
      ]
    },
    {
      "cell_type": "markdown",
      "metadata": {
        "id": "KjnZcLci_Uhh"
      },
      "source": [
        "**Question 3**"
      ]
    },
    {
      "cell_type": "code",
      "metadata": {
        "id": "ONmFY_AE_TZP",
        "outputId": "e7809020-3d37-444f-df3f-166dd311b4e6",
        "colab": {
          "base_uri": "https://localhost:8080/"
        }
      },
      "source": [
        "cp = float(input())\n",
        "sp = float(input())\n",
        "if cp>sp:\n",
        "  print('LOSS TRANSACTION')\n",
        "elif cp<sp:\n",
        "  print('PROFIT TRANSACTION')\n",
        "else:\n",
        "  print('TRANSACTION IS NEITHER PROFIT NOR LOSS')"
      ],
      "execution_count": null,
      "outputs": [
        {
          "output_type": "stream",
          "text": [
            "100\n",
            "130\n",
            "PROFIT TRANSACTION\n"
          ],
          "name": "stdout"
        }
      ]
    },
    {
      "cell_type": "markdown",
      "metadata": {
        "id": "0I1yfrxG_bSL"
      },
      "source": [
        "**Question 4**"
      ]
    },
    {
      "cell_type": "code",
      "metadata": {
        "id": "kIGT9jNW_dmZ",
        "outputId": "54cb2331-d898-41cf-a0f9-6281228f40af",
        "colab": {
          "base_uri": "https://localhost:8080/"
        }
      },
      "source": [
        "cp = float(input())\n",
        "sp = float(input())\n",
        "if cp>sp:\n",
        "  print('Loss')\n",
        "elif cp<sp:\n",
        "  print('Profit')\n",
        "else:\n",
        "  print('Neither')"
      ],
      "execution_count": null,
      "outputs": [
        {
          "output_type": "stream",
          "text": [
            "10000\n",
            "20000\n",
            "Profit\n"
          ],
          "name": "stdout"
        }
      ]
    },
    {
      "cell_type": "markdown",
      "metadata": {
        "id": "pUiCc3NP_hRi"
      },
      "source": [
        "**Question 5**"
      ]
    },
    {
      "cell_type": "code",
      "metadata": {
        "id": "tqOMYx0b_goe",
        "outputId": "8a03a202-9874-423c-950f-7d66296e3859",
        "colab": {
          "base_uri": "https://localhost:8080/"
        }
      },
      "source": [
        "euro_rupees = 80\n",
        "euro = int(input())\n",
        "print(euro*80)"
      ],
      "execution_count": null,
      "outputs": [
        {
          "output_type": "stream",
          "text": [
            "1000\n",
            "80000\n"
          ],
          "name": "stdout"
        }
      ]
    }
  ]
}